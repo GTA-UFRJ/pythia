{
  "nbformat": 4,
  "nbformat_minor": 0,
  "metadata": {
    "colab": {
      "provenance": []
    },
    "kernelspec": {
      "name": "python3",
      "display_name": "Python 3"
    },
    "language_info": {
      "name": "python"
    }
  },
  "cells": [
    {
      "cell_type": "code",
      "execution_count": null,
      "metadata": {
        "id": "e2SiquGhbES8"
      },
      "outputs": [],
      "source": [
        "import csv\n",
        "from datetime import datetime\n",
        "\n",
        "\n",
        "input_filename = 'arquivo_dados.csv'\n",
        "\n",
        "output_filename = 'output.xml'\n",
        "\n",
        "\n",
        "#importing the database and reading the data\n",
        "f = open(input_filename)\n",
        "csv_f = csv.reader(f)\n",
        "\n",
        "#converting all the data into a list of lists\n",
        "#(each inner list is a row, and each element is a parameter measured)\n",
        "data = []\n",
        "for row in csv_f: \n",
        "   data.append(row)\n",
        "f.close()\n",
        "\n",
        "#Remove the labels\n",
        "data = data[1:]\n",
        "\n",
        "#Converting the Timestamps into time deltas\n",
        "counter = 0\n",
        "for n in data:\n",
        "  if counter == 0:\n",
        "    first_timeStamp = datetime.strptime(n[0], \"%Y.%m.%d_%H.%M.%S\")\n",
        "    n[0] = first_timeStamp - first_timeStamp\n",
        "    n[0] = n[0].total_seconds()\n",
        "  else:\n",
        "    timeStamp = datetime.strptime(n[0], \"%Y.%m.%d_%H.%M.%S\")\n",
        "    n[0] = timeStamp - first_timeStamp\n",
        "    n[0] = n[0].total_seconds()\n",
        "  counter = counter + 1\n",
        "\n",
        "#Correcting the PingAVG variable\n",
        "counter = 0\n",
        "last_ping = False\n",
        "for n in data:\n",
        "  if n[15] != '-':\n",
        "    last_ping = True\n",
        "  elif n[15] == '-' and last_ping == True:\n",
        "    auxiliar_data = data[:counter]\n",
        "    for n2 in auxiliar_data[::-1]:\n",
        "      if n[5] == n2[5] and n2[15] != '-':\n",
        "        n[15] = n2[15]\n",
        "        break\n",
        "  counter = counter + 1\n",
        "\n",
        "#Transforming the '-' into '0'\n",
        "for n in data:\n",
        "  if n[15] == '-':\n",
        "    n[15] = 0\n",
        "\n",
        "#print (data)"
      ]
    },
    {
      "cell_type": "code",
      "source": [
        "#This part of the code writes the initial information for the database and tests\n",
        "#Not in a loop for every line of the database\n",
        "with open('output.xml','w') as f:\n",
        "  f.write(\"\"\"<?xml version=\"1.0\"?>\n",
        "<experiment>\n",
        "\n",
        "  <!-- UEs -->\n",
        "  <!-- The file ueA_positions.csv represents a walk from \n",
        "  Triumph's arc to Tour Eiffel in 40 minutes -->\n",
        "  <ue name=\"ueA\" positions_file=\"example/ue1_positions.csv\">\n",
        "    <ue_app name=\"client1\" image=\"simple_client\" command=\"simple_server:8080 1\"/>\n",
        "  </ue>\n",
        "\n",
        "  <!-- MEC Hosts -->\n",
        "  <mec_host name=\"mecA\" memmory=\"1\" cpu=\"2\"/>\n",
        "  <mec_host name=\"mecB\" memmory=\"1\" cpu=\"2\"/>\n",
        "\n",
        "  <!-- MEC Apps -->\n",
        "  <mec_app name=\"server1\" image=\"simple_server\" ip=\"172.21.0.3\" command=\"\"/>\\n\"\"\")"
      ],
      "metadata": {
        "id": "-RABqYW2qIpt"
      },
      "execution_count": null,
      "outputs": []
    },
    {
      "cell_type": "code",
      "source": [
        "#converting the data list, row by row, into a xml file\n",
        "def convert_row(row):\n",
        "\n",
        "  #For latency, the variable used was PingAVG\n",
        "  return \"\"\"\n",
        "  <link ue=\"ueA\" mec_host=\"%s\" latency=\"%s\" upload=\"%sMbps\" download=\"%sMbps\" time=\"%s\"/>\"\"\" % (row[5],\\\n",
        "    row[15], row[13], row[12], row[0])\n",
        "\n",
        "#Since this function uses append, it's important to not use it seperately if\n",
        "#the named file already exist in the Desktop\n",
        "with open(output_filename,'a') as f:\n",
        "  f.write('\\n'.join([convert_row(row) for row in data]))"
      ],
      "metadata": {
        "id": "XEqJdHApoiQw"
      },
      "execution_count": null,
      "outputs": []
    }
  ]
}
