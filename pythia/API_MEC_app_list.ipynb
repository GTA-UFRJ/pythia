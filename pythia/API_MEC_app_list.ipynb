{
  "nbformat": 4,
  "nbformat_minor": 0,
  "metadata": {
    "colab": {
      "provenance": []
    },
    "kernelspec": {
      "name": "python3",
      "display_name": "Python 3"
    },
    "language_info": {
      "name": "python"
    }
  },
  "cells": [
    {
      "cell_type": "code",
      "execution_count": 1,
      "metadata": {
        "id": "86v399gr7PLr"
      },
      "outputs": [],
      "source": [
        "import xml.etree.ElementTree as ET\n"
      ]
    },
    {
      "cell_type": "code",
      "source": [
        "tree = ET.parse('exemplo.xml')\n",
        "root = tree.getroot()"
      ],
      "metadata": {
        "id": "1SbLSWGl7VLg"
      },
      "execution_count": null,
      "outputs": []
    },
    {
      "cell_type": "code",
      "source": [
        "print(ET.tostring(root))"
      ],
      "metadata": {
        "id": "3Y-0Xhug7XSk"
      },
      "execution_count": null,
      "outputs": []
    },
    {
      "cell_type": "code",
      "source": [
        "\n",
        "def conv():\n",
        "  lista =[]\n",
        "  for desc in tree.findall(\"mec_app\"):\n",
        "    lista = lista + [desc.attrib]\n",
        "  return lista\n",
        "conv()"
      ],
      "metadata": {
        "id": "7lY0myMp7blp"
      },
      "execution_count": null,
      "outputs": []
    },
    {
      "cell_type": "code",
      "source": [
        "for desc in tree.findall(\"experiment\"):\n",
        "  print(desc.text)"
      ],
      "metadata": {
        "id": "z_2Z-MAbxpwh"
      },
      "execution_count": null,
      "outputs": []
    },
    {
      "cell_type": "code",
      "source": [
        "print(root.attrib)"
      ],
      "metadata": {
        "id": "THhCI-gZ7iv3"
      },
      "execution_count": null,
      "outputs": []
    }
  ]
}